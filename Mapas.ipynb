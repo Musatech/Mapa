{
 "cells": [
  {
   "cell_type": "code",
   "execution_count": null,
   "id": "5de373da",
   "metadata": {},
   "outputs": [],
   "source": [
    "import json\n",
    "import requests\n",
    "import pandas as pd\n",
    "import folium\n",
    "from requests.structures import CaseInsensitiveDict\n",
    "import numpy as np\n",
    "from datetime import datetime, timedelta\n",
    "from folium.plugins import MarkerCluster\n",
    "from scipy.spatial import ConvexHull\n",
    "from folium.plugins import Draw\n",
    "from folium import plugins"
   ]
  },
  {
   "cell_type": "code",
   "execution_count": null,
   "id": "493f21db",
   "metadata": {},
   "outputs": [],
   "source": [
    "url = \"https://webapp.tech.musa.co/0.1.1/auth\"\n",
    "payload=json.load(open(\"login.txt\"))\n",
    "headers = {'content-type': 'application/json'}\n",
    "r = requests.post(url, data=json.dumps(payload), headers=headers)\n",
    "token = r.json()"
   ]
  },
  {
   "cell_type": "code",
   "execution_count": null,
   "id": "875d08ce",
   "metadata": {},
   "outputs": [],
   "source": [
    "dias = []\n",
    "for i in range(8):\n",
    "    d = (datetime.today() - timedelta(days=i)).strftime('%Y-%m-%d')\n",
    "    dias.append(d)\n",
    "dias.sort()"
   ]
  },
  {
   "cell_type": "code",
   "execution_count": null,
   "id": "b49dd3df",
   "metadata": {},
   "outputs": [],
   "source": [
    "col = ['id',\n",
    "     'order',\n",
    "     'stop_duration',\n",
    "     'address',\n",
    "     'coordinates',\n",
    "     'estimated_time_arrival',\n",
    "     'estimated_time_departure',\n",
    "     'collects',\n",
    "     'destination',\n",
    "     'storages',\n",
    "     'stop_point_type',\n",
    "     'km_distance',\n",
    "     'check_in_time',\n",
    "     'check_out_time',\n",
    "     'about',\n",
    "     'place_image']\n",
    "\n",
    "\n",
    "df_gerador = pd.DataFrame()\n",
    "\n",
    "for l in range(len(dias)):\n",
    "\n",
    "    FMT = '%H:%M:%S'  \n",
    "    \n",
    "    for p in range(1,5):\n",
    "\n",
    "        url = \"https://webapp.tech.musa.co/0.1.1/routes?date=\" + dias[l] + \"&page=\" + str(p) + \"&pagination=y&route_type=collect\"\n",
    "        \n",
    "        headers = CaseInsensitiveDict()\n",
    "        headers[\"Accept\"] = \"application/json\"\n",
    "        headers[\"Authorization\"] = \"Bearer \" + token['IdToken']\n",
    "        \n",
    "        \n",
    "        resp = requests.get(url, headers=headers)\n",
    "        \n",
    "        if resp.status_code == 200:\n",
    "            \n",
    "            rota = resp.json()\n",
    "            rota = rota['results']\n",
    "\n",
    "            for i in range(len(rota)):\n",
    "                \n",
    "                if rota[i]['stop_points'] != []:\n",
    "                    df_g = pd.DataFrame(rota[i]['stop_points'])\n",
    "                    df_g = df_g[df_g['stop_point_type'] == 'generator']\n",
    "                    lat = []\n",
    "                    long = []\n",
    "                    jn = []\n",
    "                    for _,row in df_g.iterrows():\n",
    "                        lat.append(float(list(row.coordinates.values())[0]))\n",
    "                        long.append(list(row.coordinates.values())[1])\n",
    "                        li = list(row.windows_time.values())\n",
    "                        li = [x for x in li if x is not None]\n",
    "                        jn.append(' - '.join(li))\n",
    "                    df_g['Janelas_de_Coleta'] = jn\n",
    "                    df_g['latitude'] = lat\n",
    "                    df_g['longitude'] = long\n",
    "                    df_g['transportador'] = rota[i]['hauler']['fantasy_name']\n",
    "                    df_g['roteiro'] = rota[i]['route_name']\n",
    "                    df_g.drop(columns=col,inplace =True)\n",
    "                    df_gerador = pd.concat([df_gerador, df_g])\n",
    "            \n",
    "df_gerador[['roteiro','data']] = df_gerador['roteiro'].str.split('|', 2, expand=True)\n",
    "df_gerador.drop(columns=['data','windows_time', 'cnpj'], inplace = True)\n",
    "df_gerador.drop_duplicates(inplace= True)\n",
    "df_gerador.reset_index(drop=True, inplace = True)\n",
    "df_gerador.roteiro = df_gerador.roteiro.str.strip()\n",
    "df_gerador = df_gerador[(df_gerador['transportador'] != \"MUSA Resgate\") & (df_gerador['roteiro'] != \"Rota MUDA\") & (df_gerador['roteiro'] != \"Rota Resgate Kata\")]\n",
    "df_gerador.rename(columns = {'name': 'Estabelecimento'}, inplace = True)"
   ]
  },
  {
   "cell_type": "code",
   "execution_count": null,
   "id": "4ae596d6",
   "metadata": {},
   "outputs": [],
   "source": [
    "df1 =  pd.read_csv('Color_Roteiro.csv')"
   ]
  },
  {
   "cell_type": "code",
   "execution_count": null,
   "id": "e631d5fb",
   "metadata": {},
   "outputs": [],
   "source": [
    "rt = df1['Roteiro'].unique().tolist()\n",
    "Color = df1['Color'].values.tolist()\n",
    "H = df1['Horario_roteiro'].values.tolist()"
   ]
  },
  {
   "cell_type": "code",
   "execution_count": null,
   "id": "739e90c2",
   "metadata": {},
   "outputs": [],
   "source": [
    "my_map = folium.Map(location=[-23.5475000, -46.6361100],tiles=None, zoom_start=11, overlay=False)\n",
    "\n",
    "for i in range(len(rt)):\n",
    "    globals()['feature_group%s' % i] = folium.FeatureGroup(name= rt[i],overlay=True)\n",
    "    globals()['feature_group%s' % i].add_to(my_map)\n",
    "\n",
    "folium.TileLayer(tiles ='Cartodb Positron',overlay=False,name =\"Roteiro\").add_to(my_map)\n",
    "\n",
    "folium.LayerControl(autoZIndex=False).add_to(my_map)"
   ]
  },
  {
   "cell_type": "code",
   "execution_count": null,
   "id": "e133b213",
   "metadata": {},
   "outputs": [],
   "source": [
    "for n in range(len(rt)):\n",
    "    d = df_gerador[df_gerador['roteiro'] == rt[n]]\n",
    "    list_of_points = d[['latitude','longitude']].values.tolist()\n",
    "    form = [list_of_points[i] for i in ConvexHull(list_of_points).vertices]\n",
    "        \n",
    "    folium.Polygon(locations=form, \n",
    "                    color=Color[n], \n",
    "                    fill=True, \n",
    "                    fill_color= Color[n], \n",
    "                    fill_opacity=0.2,\n",
    "                   popup=(folium.Popup('Roteiro: ' + rt[n] + '<br> Horário Roteiro: ' + H[n], max_width = 300))\n",
    "                    ).add_to(globals()['feature_group%s' % n])  \n",
    "\n",
    "    my_map.add_child(globals()['feature_group%s' % n])"
   ]
  },
  {
   "cell_type": "code",
   "execution_count": null,
   "id": "1146b387",
   "metadata": {},
   "outputs": [],
   "source": [
    "for n in range(len(rt)):\n",
    "    for _,row in df_gerador[df_gerador['roteiro'] == rt[n]].iterrows():\n",
    "        folium.CircleMarker(\n",
    "            location=[row.latitude,row.longitude],\n",
    "            radius=5,\n",
    "            popup =  folium.Popup(row.Estabelecimento + '<br> Janela: ' + \n",
    "                                  row.Janelas_de_Coleta + '<br> Roteiro: ' + row.roteiro +'<br> Horário do roteiro: ' + \n",
    "                                  H[n], max_width = 300),\n",
    "            fill=True,\n",
    "            color=Color[n],\n",
    "            fill_color=Color[n],\n",
    "        ).add_to(globals()['feature_group%s' % n])  \n",
    "\n",
    "    my_map.add_child(globals()['feature_group%s' % n])"
   ]
  },
  {
   "cell_type": "code",
   "execution_count": null,
   "id": "f85faa33",
   "metadata": {},
   "outputs": [],
   "source": [
    "draw = Draw()\n",
    "\n",
    "draw.add_to(my_map)\n",
    "plugins.Geocoder(collapsed=True,position = 'topleft' ).add_to(my_map)"
   ]
  },
  {
   "cell_type": "code",
   "execution_count": null,
   "id": "4f0319c0",
   "metadata": {},
   "outputs": [],
   "source": [
    "my_map.save('index.html')"
   ]
  }
 ],
 "metadata": {
  "kernelspec": {
   "display_name": "Python 3 (ipykernel)",
   "language": "python",
   "name": "python3"
  },
  "language_info": {
   "codemirror_mode": {
    "name": "ipython",
    "version": 3
   },
   "file_extension": ".py",
   "mimetype": "text/x-python",
   "name": "python",
   "nbconvert_exporter": "python",
   "pygments_lexer": "ipython3",
   "version": "3.9.7"
  }
 },
 "nbformat": 4,
 "nbformat_minor": 5
}
